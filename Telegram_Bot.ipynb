{
  "nbformat": 4,
  "nbformat_minor": 0,
  "metadata": {
    "colab": {
      "name": "Telegram Bot.ipynb",
      "provenance": [],
      "collapsed_sections": []
    },
    "kernelspec": {
      "name": "python3",
      "display_name": "Python 3"
    },
    "language_info": {
      "name": "python"
    }
  },
  "cells": [
    {
      "cell_type": "markdown",
      "source": [
        "# **Telegram Bot** \n",
        "## **Coded by Shivam Kumar**"
      ],
      "metadata": {
        "id": "xu4ey4Uvgw2A"
      }
    },
    {
      "cell_type": "markdown",
      "source": [
        "# **Importing required dependencies**"
      ],
      "metadata": {
        "id": "d87_JVsDg_-P"
      }
    },
    {
      "cell_type": "code",
      "source": [
        "import requests\n",
        "import json"
      ],
      "metadata": {
        "id": "1GdZ6T36c5qj"
      },
      "execution_count": 11,
      "outputs": []
    },
    {
      "cell_type": "markdown",
      "source": [
        "# **Getting messages from telegram group**"
      ],
      "metadata": {
        "id": "tk9tR_z7h8N8"
      }
    },
    {
      "cell_type": "code",
      "source": [
        "# Telegram API call to get all recent messages from telegram group\n",
        "base_url='https://api.telegram.org/bot5531153708:AAFWH_cnA2Pq3oyjmR48A6Qfo6wmlkKYBMs/getUpdates'\n",
        "\n",
        "result=requests.get(base_url)\n",
        "parsed=json.loads(result.text)\n",
        "print(json.dumps(parsed,indent=2))"
      ],
      "metadata": {
        "colab": {
          "base_uri": "https://localhost:8080/"
        },
        "id": "DSjpsSDHdBEH",
        "outputId": "3960ddfd-c2dc-42ec-8d3c-b51c976c0717"
      },
      "execution_count": 12,
      "outputs": [
        {
          "output_type": "stream",
          "name": "stdout",
          "text": [
            "{\n",
            "  \"ok\": true,\n",
            "  \"result\": [\n",
            "    {\n",
            "      \"update_id\": 89273270,\n",
            "      \"message\": {\n",
            "        \"message_id\": 216,\n",
            "        \"from\": {\n",
            "          \"id\": 1385115194,\n",
            "          \"is_bot\": false,\n",
            "          \"first_name\": \"\\ud589\\ubcf5\",\n",
            "          \"last_name\": \"\\uc2dc\\ubc24\"\n",
            "        },\n",
            "        \"chat\": {\n",
            "          \"id\": -738869685,\n",
            "          \"title\": \"My Channel\",\n",
            "          \"type\": \"group\",\n",
            "          \"all_members_are_administrators\": true\n",
            "        },\n",
            "        \"date\": 1654756681,\n",
            "        \"text\": \"Hello\"\n",
            "      }\n",
            "    }\n",
            "  ]\n",
            "}\n"
          ]
        }
      ]
    },
    {
      "cell_type": "code",
      "source": [
        "print(\"Recent messages: \")\n",
        "for i in parsed['result']:\n",
        "    print(json.dumps(i['message']['text'],indent=2))"
      ],
      "metadata": {
        "colab": {
          "base_uri": "https://localhost:8080/"
        },
        "id": "lL20CpQldFpS",
        "outputId": "28588ecb-dc57-43b3-b5a1-3f863d093f21"
      },
      "execution_count": 13,
      "outputs": [
        {
          "output_type": "stream",
          "name": "stdout",
          "text": [
            "Recent messages: \n",
            "\"Hello\"\n"
          ]
        }
      ]
    },
    {
      "cell_type": "code",
      "source": [
        "# Getting update_ids\n",
        "update_ids=[]\n",
        "for i in parsed['result']:\n",
        "    update_ids.append(i['update_id'])\n",
        "print(update_ids)\n",
        "\n",
        "parameter={\n",
        "    'offset': update_ids[-1]\n",
        "}\n",
        "\n",
        "# Telegram API call to get last message from telegram group\n",
        "resultL=requests.get(base_url,data=parameter)\n",
        "parsed=json.loads(resultL.text)\n",
        "\n",
        "print(\"Messages after update_id\",update_ids[-1])\n",
        "for i in parsed['result']:\n",
        "    print(json.dumps(i['message']['text'],indent=2))"
      ],
      "metadata": {
        "colab": {
          "base_uri": "https://localhost:8080/"
        },
        "id": "a3-DSee9e9rA",
        "outputId": "79f43631-155b-476e-f574-80885e76c07e"
      },
      "execution_count": 14,
      "outputs": [
        {
          "output_type": "stream",
          "name": "stdout",
          "text": [
            "[89273270]\n",
            "Messages after update_id 89273270\n",
            "\"Hello\"\n"
          ]
        }
      ]
    },
    {
      "cell_type": "markdown",
      "source": [
        "# **Sending messages to telegram group**"
      ],
      "metadata": {
        "id": "5AU-HUUfnxZz"
      }
    },
    {
      "cell_type": "code",
      "source": [
        "base_url='https://api.telegram.org/bot5531153708:AAFWH_cnA2Pq3oyjmR48A6Qfo6wmlkKYBMs/sendMessage'\n",
        "\n",
        "text=\"Uzumaki Naruto... Dattebayo\"\n",
        "\n",
        "parameters={\n",
        "    'chat_id':\"-738869685\",\n",
        "    'text': text\n",
        "}\n",
        "\n",
        "result=requests.get(base_url,data=parameters)\n",
        "print(result.text)"
      ],
      "metadata": {
        "colab": {
          "base_uri": "https://localhost:8080/"
        },
        "id": "-04JYs4PgOPM",
        "outputId": "2ee2fcd4-667d-4afb-ebb9-8c42f305843d"
      },
      "execution_count": 15,
      "outputs": [
        {
          "output_type": "stream",
          "name": "stdout",
          "text": [
            "{\"ok\":true,\"result\":{\"message_id\":217,\"from\":{\"id\":5531153708,\"is_bot\":true,\"first_name\":\"Naruto\",\"username\":\"Uzumaki145Bot\"},\"chat\":{\"id\":-738869685,\"title\":\"My Channel\",\"type\":\"group\",\"all_members_are_administrators\":true},\"date\":1654756711,\"text\":\"Uzumaki Naruto... Dattebayo\"}}\n"
          ]
        }
      ]
    },
    {
      "cell_type": "markdown",
      "source": [
        "# **Send a photo to telegram group using bot**"
      ],
      "metadata": {
        "id": "KGUZbqNGtyVY"
      }
    },
    {
      "cell_type": "code",
      "source": [
        "base_url='https://api.telegram.org/bot5531153708:AAFWH_cnA2Pq3oyjmR48A6Qfo6wmlkKYBMs/sendPhoto'\n",
        "\n",
        "imageURL=\"https://www.worthview.com/wp-content/uploads/2019/03/Cult-Anime.jpg\"\n",
        "\n",
        "parameters={\n",
        "    'chat_id':\"-738869685\",\n",
        "    'photo':imageURL\n",
        "}\n",
        "\n",
        "result=requests.get(base_url,data=parameters)\n",
        "print(result.text)"
      ],
      "metadata": {
        "colab": {
          "base_uri": "https://localhost:8080/"
        },
        "id": "a2kaiupwrSWN",
        "outputId": "efe273bc-2966-456a-cfd0-ead97d7dad6a"
      },
      "execution_count": 16,
      "outputs": [
        {
          "output_type": "stream",
          "name": "stdout",
          "text": [
            "{\"ok\":true,\"result\":{\"message_id\":218,\"from\":{\"id\":5531153708,\"is_bot\":true,\"first_name\":\"Naruto\",\"username\":\"Uzumaki145Bot\"},\"chat\":{\"id\":-738869685,\"title\":\"My Channel\",\"type\":\"group\",\"all_members_are_administrators\":true},\"date\":1654756712,\"photo\":[{\"file_id\":\"AgACAgQAAxkDAAPaYqGVaLAGM74BuVMDQzHMfRV8uskAAharMRsRZ8xTeUj5yn2tKX8BAAMCAANzAAMkBA\",\"file_unique_id\":\"AQADFqsxGxFnzFN4\",\"file_size\":1496,\"width\":90,\"height\":51},{\"file_id\":\"AgACAgQAAxkDAAPaYqGVaLAGM74BuVMDQzHMfRV8uskAAharMRsRZ8xTeUj5yn2tKX8BAAMCAANtAAMkBA\",\"file_unique_id\":\"AQADFqsxGxFnzFNy\",\"file_size\":19973,\"width\":320,\"height\":180},{\"file_id\":\"AgACAgQAAxkDAAPaYqGVaLAGM74BuVMDQzHMfRV8uskAAharMRsRZ8xTeUj5yn2tKX8BAAMCAAN5AAMkBA\",\"file_unique_id\":\"AQADFqsxGxFnzFN-\",\"file_size\":59425,\"width\":1280,\"height\":720},{\"file_id\":\"AgACAgQAAxkDAAPaYqGVaLAGM74BuVMDQzHMfRV8uskAAharMRsRZ8xTeUj5yn2tKX8BAAMCAAN4AAMkBA\",\"file_unique_id\":\"AQADFqsxGxFnzFN9\",\"file_size\":74816,\"width\":800,\"height\":450}]}}\n"
          ]
        }
      ]
    },
    {
      "cell_type": "markdown",
      "source": [
        "# **Send audio file using telegram bot**"
      ],
      "metadata": {
        "id": "gKsglGfYwE5s"
      }
    },
    {
      "cell_type": "code",
      "source": [
        "base_url='https://api.telegram.org/bot5531153708:AAFWH_cnA2Pq3oyjmR48A6Qfo6wmlkKYBMs/sendAudio'\n",
        "\n",
        "audioURL=\"https://www.bensound.com/bensound-music/bensound-trueperfection.mp3\"\n",
        "\n",
        "parameters={\n",
        "    'chat_id':\"-738869685\",\n",
        "    'audio':audioURL\n",
        "}\n",
        "\n",
        "result=requests.get(base_url,data=parameters)\n",
        "print(result.text)"
      ],
      "metadata": {
        "colab": {
          "base_uri": "https://localhost:8080/"
        },
        "id": "Zt5Yj_Iiuj9Z",
        "outputId": "8c7ac7b5-66c7-4092-fe74-ebe9fdb6f0a4"
      },
      "execution_count": 17,
      "outputs": [
        {
          "output_type": "stream",
          "name": "stdout",
          "text": [
            "{\"ok\":true,\"result\":{\"message_id\":219,\"from\":{\"id\":5531153708,\"is_bot\":true,\"first_name\":\"Naruto\",\"username\":\"Uzumaki145Bot\"},\"chat\":{\"id\":-738869685,\"title\":\"My Channel\",\"type\":\"group\",\"all_members_are_administrators\":true},\"date\":1654756712,\"audio\":{\"duration\":152,\"file_name\":\"bensound-trueperfection.mp3\",\"mime_type\":\"audio/mpeg\",\"file_id\":\"CQACAgQAAxkDAAPbYqGVaGZ6iJq0mT95iC3eFacnFFYAAkcDAALkTxRRCmKxSVPxmCUkBA\",\"file_unique_id\":\"AgADRwMAAuRPFFE\",\"file_size\":3657135}}}\n"
          ]
        }
      ]
    },
    {
      "cell_type": "markdown",
      "source": [
        "# **Sending a document using telegram bot**"
      ],
      "metadata": {
        "id": "1gPiP8TeyB1S"
      }
    },
    {
      "cell_type": "code",
      "source": [
        "# For this you'll need to download the data on your local device \n",
        "# or on the cloud session where you are working \n",
        "\n",
        "base_url='https://api.telegram.org/bot5531153708:AAFWH_cnA2Pq3oyjmR48A6Qfo6wmlkKYBMs/sendDocument'\n",
        "\n",
        "my_file=open('/content/email.csv','rb')\n",
        "\n",
        "parameters={\n",
        "    'chat_id':\"-738869685\",\n",
        "}\n",
        "files={\n",
        "    'document':my_file\n",
        "}\n",
        "\n",
        "result=requests.get(base_url,data=parameters,files=files)\n",
        "print(result.text)"
      ],
      "metadata": {
        "colab": {
          "base_uri": "https://localhost:8080/"
        },
        "id": "Yr0hnOfEwhZ3",
        "outputId": "bb05f3ed-abb3-4525-b580-83cbb77bb999"
      },
      "execution_count": 18,
      "outputs": [
        {
          "output_type": "stream",
          "name": "stdout",
          "text": [
            "{\"ok\":true,\"result\":{\"message_id\":220,\"from\":{\"id\":5531153708,\"is_bot\":true,\"first_name\":\"Naruto\",\"username\":\"Uzumaki145Bot\"},\"chat\":{\"id\":-738869685,\"title\":\"My Channel\",\"type\":\"group\",\"all_members_are_administrators\":true},\"date\":1654756713,\"document\":{\"file_name\":\"email.csv\",\"mime_type\":\"text/csv\",\"file_id\":\"BQACAgUAAxkDAAPcYqGVafVh93JEFuLPAQABBm0opjjuAAITBQACqIsRVaepzYk2ILoTJAQ\",\"file_unique_id\":\"AgADEwUAAqiLEVU\",\"file_size\":184}}}\n"
          ]
        }
      ]
    },
    {
      "cell_type": "markdown",
      "source": [
        "# **Replying to a defined message**"
      ],
      "metadata": {
        "id": "0WcdHEPZ5vbJ"
      }
    },
    {
      "cell_type": "code",
      "source": [
        "base_url='https://api.telegram.org/bot5531153708:AAFWH_cnA2Pq3oyjmR48A6Qfo6wmlkKYBMs'\n",
        "\n",
        "def read_msg():\n",
        "    update_ids=[]\n",
        "    for i in parsed['result']:\n",
        "        update_ids.append(i['update_id'])\n",
        "    parameters={\n",
        "        'offset':update_ids[-1]\n",
        "    }\n",
        "    resp=requests.get(base_url+'/getUpdates',parameters)\n",
        "    data=resp.json()\n",
        "    for result in data['result']:\n",
        "        if \"hi\" == result['message']['text']:\n",
        "            send_msg()\n",
        "        \n",
        "\n",
        "def send_msg():\n",
        "    parameters={\n",
        "        'chat_id':'-738869685',\n",
        "        'text':'No data now :)'\n",
        "    }\n",
        "    resp=requests.get(base_url+'/sendMessage',parameters)\n",
        "    print(resp.text)\n",
        "\n",
        "read_msg()"
      ],
      "metadata": {
        "id": "ZQVxc1u_yf2d"
      },
      "execution_count": 19,
      "outputs": []
    },
    {
      "cell_type": "markdown",
      "source": [
        "# **Replying to specific message**"
      ],
      "metadata": {
        "id": "BB8Cx9oeIlBn"
      }
    },
    {
      "cell_type": "code",
      "source": [
        "import pandas as pd\n",
        "\n",
        "url = 'https://raw.githubusercontent.com/vikasjha001/telegram/main/qna_chitchat_professional.tsv'\n",
        "\n",
        "df = pd.read_csv(url, sep=\"\\t\")\n",
        "\n",
        "\n",
        "base_url = \"https://api.telegram.org/bot5531153708:AAFWH_cnA2Pq3oyjmR48A6Qfo6wmlkKYBMs\"\n",
        "\n",
        "\n",
        "\n",
        "def read_msg(offset):\n",
        "\n",
        "  parameters = {\n",
        "      \"offset\" : offset\n",
        "  }\n",
        "\n",
        "  resp = requests.get(base_url + \"/getUpdates\", data = parameters)\n",
        "  data = resp.json()\n",
        "\n",
        "  print(data)\n",
        "\n",
        "  for result in data[\"result\"]:\n",
        "    send_msg(result)\n",
        "  \n",
        "  if data[\"result\"]:\n",
        "    return data[\"result\"][-1][\"update_id\"] + 1\n",
        "\n",
        "\n",
        "\n",
        "def auto_answer(message):\n",
        "  answer = df.loc[df['Question'].str.lower() == message.lower()]  \n",
        "\n",
        "  if not answer.empty:\n",
        "      answer = answer.iloc[0]['Answer']\n",
        "      return answer\n",
        "  else:\n",
        "      return \"Sorry, I could not understand you !!! I am still learning and try to get better in answering.\"\n",
        "\n",
        "\n",
        "\n",
        "def send_msg(message):\n",
        "  text = message[\"message\"][\"text\"]\n",
        "  message_id = message[\"message\"][\"message_id\"]\n",
        "  answer = auto_answer(text)\n",
        "\n",
        "  parameters = {\n",
        "      \"chat_id\" : \"-738869685\",\n",
        "      \"text\" : answer,\n",
        "      \"reply_to_message_id\" : message_id\n",
        "  }\n",
        "\n",
        "  resp = requests.get(base_url + \"/sendMessage\", data = parameters)\n",
        "  print(resp.text)\n",
        "\n",
        "offset = 0\n",
        "\n",
        "while True:  \n",
        "  offset = read_msg(offset)\n"
      ],
      "metadata": {
        "id": "okJ_YG3O8kEr"
      },
      "execution_count": null,
      "outputs": []
    }
  ]
}